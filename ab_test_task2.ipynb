{
 "cells": [
  {
   "cell_type": "markdown",
   "id": "422a3f0c-c6d0-4359-af5f-cad3632c0db1",
   "metadata": {},
   "source": [
    "Пришло время проанализировать результаты эксперимента, который мы провели вместе с командой дата сайентистов. Эксперимент проходил с 2023-05-01 по 2023-05-07 включительно. Для эксперимента были задействованы 2 и 1 группы.\n",
    "\n",
    "В группе 2 был использован один из новых алгоритмов рекомендации постов, группа 1 использовалась в качестве контроля.\n",
    "\n",
    "Основная гипотеза заключается в том, что новый алгоритм во 2-й группе приведет к увеличению CTR.\n",
    "\n",
    "Ваша задача — проанализировать данные АB-теста.\n",
    "\n",
    "Выбрать метод анализа и сравнить CTR в двух группах (мы разбирали t-тест, Пуассоновский бутстреп, тест Манна-Уитни, t-тест на сглаженном ctr (α=5) а также t-тест и тест Манна-Уитни поверх бакетного преобразования). Сравните данные этими тестами. А еще посмотрите на распределения глазами. Почему тесты сработали так как сработали? Опишите потенциальную ситуацию, когда такое изменение могло произойти. Тут нет идеального ответа, подумайте. Напишите рекомендацию, будем ли мы раскатывать новый алгоритм на всех новых пользователей или все-таки не стоит."
   ]
  },
  {
   "cell_type": "code",
   "execution_count": 1,
   "id": "52be52ad-10e9-4066-97e3-425b0169e4b5",
   "metadata": {},
   "outputs": [],
   "source": [
    "import pandahouse\n",
    "import pandas as pd\n",
    "import seaborn as sns\n",
    "import matplotlib.pyplot as plt\n",
    "import numpy as np\n",
    "import hashlib # Делать хеши\n",
    "#import swifter # Ускорялка метода apply\n",
    "from scipy import stats # Статистика\n",
    "%matplotlib inline"
   ]
  },
  {
   "cell_type": "code",
   "execution_count": 2,
   "id": "8513cf99-a871-416e-974c-f0c83fd66a14",
   "metadata": {},
   "outputs": [],
   "source": [
    "connection = {\n",
    "    'host': 'https://clickhouse.lab.karpov.courses',\n",
    "    'password': 'dpo_python_2020',\n",
    "    'user': 'student',\n",
    "    'database': 'simulator_20230520'\n",
    "}"
   ]
  },
  {
   "cell_type": "code",
   "execution_count": 3,
   "id": "e22c7db0-6b88-424b-8e2b-2f26405fc0df",
   "metadata": {},
   "outputs": [],
   "source": [
    "# выгрузим из Кликхауса необходимые данные\n",
    "q = \"\"\"\n",
    "    SELECT \n",
    "            exp_group,\n",
    "            user_id,\n",
    "            sum(action = 'like') as likes,\n",
    "            sum(action = 'view') as views,\n",
    "            likes / views as ctr\n",
    "    FROM {db}.feed_actions \n",
    "    WHERE toDate(time) between '2023-05-01' and '2023-05-07'\n",
    "            and exp_group in (2, 1)\n",
    "    GROUP BY exp_group, user_id\n",
    "    \n",
    "\"\"\""
   ]
  },
  {
   "cell_type": "code",
   "execution_count": 4,
   "id": "3afa028e-e98e-4fa3-902e-10ed9c8336ea",
   "metadata": {},
   "outputs": [],
   "source": [
    "df = pandahouse.read_clickhouse(q, connection=connection)"
   ]
  },
  {
   "cell_type": "code",
   "execution_count": 5,
   "id": "d11fdb4e-5045-4f65-b7db-5069310ee0dc",
   "metadata": {},
   "outputs": [
    {
     "data": {
      "text/html": [
       "<div>\n",
       "<style scoped>\n",
       "    .dataframe tbody tr th:only-of-type {\n",
       "        vertical-align: middle;\n",
       "    }\n",
       "\n",
       "    .dataframe tbody tr th {\n",
       "        vertical-align: top;\n",
       "    }\n",
       "\n",
       "    .dataframe thead th {\n",
       "        text-align: right;\n",
       "    }\n",
       "</style>\n",
       "<table border=\"1\" class=\"dataframe\">\n",
       "  <thead>\n",
       "    <tr style=\"text-align: right;\">\n",
       "      <th></th>\n",
       "      <th>exp_group</th>\n",
       "      <th>user_id</th>\n",
       "      <th>likes</th>\n",
       "      <th>views</th>\n",
       "      <th>ctr</th>\n",
       "    </tr>\n",
       "  </thead>\n",
       "  <tbody>\n",
       "    <tr>\n",
       "      <th>0</th>\n",
       "      <td>1</td>\n",
       "      <td>109963</td>\n",
       "      <td>3</td>\n",
       "      <td>15</td>\n",
       "      <td>0.200000</td>\n",
       "    </tr>\n",
       "    <tr>\n",
       "      <th>1</th>\n",
       "      <td>1</td>\n",
       "      <td>26117</td>\n",
       "      <td>32</td>\n",
       "      <td>141</td>\n",
       "      <td>0.226950</td>\n",
       "    </tr>\n",
       "    <tr>\n",
       "      <th>2</th>\n",
       "      <td>1</td>\n",
       "      <td>138232</td>\n",
       "      <td>18</td>\n",
       "      <td>73</td>\n",
       "      <td>0.246575</td>\n",
       "    </tr>\n",
       "    <tr>\n",
       "      <th>3</th>\n",
       "      <td>1</td>\n",
       "      <td>26295</td>\n",
       "      <td>33</td>\n",
       "      <td>122</td>\n",
       "      <td>0.270492</td>\n",
       "    </tr>\n",
       "    <tr>\n",
       "      <th>4</th>\n",
       "      <td>1</td>\n",
       "      <td>18392</td>\n",
       "      <td>7</td>\n",
       "      <td>32</td>\n",
       "      <td>0.218750</td>\n",
       "    </tr>\n",
       "  </tbody>\n",
       "</table>\n",
       "</div>"
      ],
      "text/plain": [
       "   exp_group  user_id  likes  views       ctr\n",
       "0          1   109963      3     15  0.200000\n",
       "1          1    26117     32    141  0.226950\n",
       "2          1   138232     18     73  0.246575\n",
       "3          1    26295     33    122  0.270492\n",
       "4          1    18392      7     32  0.218750"
      ]
     },
     "execution_count": 5,
     "metadata": {},
     "output_type": "execute_result"
    }
   ],
   "source": [
    "# Загрузим датасет\n",
    "df.head()"
   ]
  },
  {
   "cell_type": "code",
   "execution_count": 6,
   "id": "e89be2de-cce2-4fe8-a73d-e2d1baeedf40",
   "metadata": {},
   "outputs": [
    {
     "data": {
      "text/html": [
       "<div>\n",
       "<style scoped>\n",
       "    .dataframe tbody tr th:only-of-type {\n",
       "        vertical-align: middle;\n",
       "    }\n",
       "\n",
       "    .dataframe tbody tr th {\n",
       "        vertical-align: top;\n",
       "    }\n",
       "\n",
       "    .dataframe thead th {\n",
       "        text-align: right;\n",
       "    }\n",
       "</style>\n",
       "<table border=\"1\" class=\"dataframe\">\n",
       "  <thead>\n",
       "    <tr style=\"text-align: right;\">\n",
       "      <th></th>\n",
       "      <th>user_id</th>\n",
       "      <th>likes</th>\n",
       "      <th>views</th>\n",
       "      <th>ctr</th>\n",
       "    </tr>\n",
       "    <tr>\n",
       "      <th>exp_group</th>\n",
       "      <th></th>\n",
       "      <th></th>\n",
       "      <th></th>\n",
       "      <th></th>\n",
       "    </tr>\n",
       "  </thead>\n",
       "  <tbody>\n",
       "    <tr>\n",
       "      <th>1</th>\n",
       "      <td>10079</td>\n",
       "      <td>10079</td>\n",
       "      <td>10079</td>\n",
       "      <td>10079</td>\n",
       "    </tr>\n",
       "    <tr>\n",
       "      <th>2</th>\n",
       "      <td>9952</td>\n",
       "      <td>9952</td>\n",
       "      <td>9952</td>\n",
       "      <td>9952</td>\n",
       "    </tr>\n",
       "  </tbody>\n",
       "</table>\n",
       "</div>"
      ],
      "text/plain": [
       "           user_id  likes  views    ctr\n",
       "exp_group                              \n",
       "1            10079  10079  10079  10079\n",
       "2             9952   9952   9952   9952"
      ]
     },
     "execution_count": 6,
     "metadata": {},
     "output_type": "execute_result"
    }
   ],
   "source": [
    "#Убедимся, что юзеров одинаковое +- количество в группах\n",
    "df.groupby('exp_group').count()"
   ]
  },
  {
   "cell_type": "code",
   "execution_count": 7,
   "id": "80b7201d-0121-4177-b240-6bc0b9362bb0",
   "metadata": {},
   "outputs": [],
   "source": [
    "#увеличим размер в сиборне\n",
    "sns.set(rc={'figure.figsize':(11.7,8.27)})"
   ]
  },
  {
   "cell_type": "code",
   "execution_count": 8,
   "id": "80a6c7a3-6160-4163-85fc-d64b74b1065e",
   "metadata": {},
   "outputs": [
    {
     "data": {
      "text/html": [
       "<div>\n",
       "<style scoped>\n",
       "    .dataframe tbody tr th:only-of-type {\n",
       "        vertical-align: middle;\n",
       "    }\n",
       "\n",
       "    .dataframe tbody tr th {\n",
       "        vertical-align: top;\n",
       "    }\n",
       "\n",
       "    .dataframe thead th {\n",
       "        text-align: right;\n",
       "    }\n",
       "</style>\n",
       "<table border=\"1\" class=\"dataframe\">\n",
       "  <thead>\n",
       "    <tr style=\"text-align: right;\">\n",
       "      <th></th>\n",
       "      <th>exp_group</th>\n",
       "      <th>user_id</th>\n",
       "      <th>likes</th>\n",
       "      <th>views</th>\n",
       "      <th>ctr</th>\n",
       "    </tr>\n",
       "  </thead>\n",
       "  <tbody>\n",
       "    <tr>\n",
       "      <th>0</th>\n",
       "      <td>1</td>\n",
       "      <td>109963</td>\n",
       "      <td>3</td>\n",
       "      <td>15</td>\n",
       "      <td>0.200000</td>\n",
       "    </tr>\n",
       "    <tr>\n",
       "      <th>1</th>\n",
       "      <td>1</td>\n",
       "      <td>26117</td>\n",
       "      <td>32</td>\n",
       "      <td>141</td>\n",
       "      <td>0.226950</td>\n",
       "    </tr>\n",
       "    <tr>\n",
       "      <th>2</th>\n",
       "      <td>1</td>\n",
       "      <td>138232</td>\n",
       "      <td>18</td>\n",
       "      <td>73</td>\n",
       "      <td>0.246575</td>\n",
       "    </tr>\n",
       "    <tr>\n",
       "      <th>3</th>\n",
       "      <td>1</td>\n",
       "      <td>26295</td>\n",
       "      <td>33</td>\n",
       "      <td>122</td>\n",
       "      <td>0.270492</td>\n",
       "    </tr>\n",
       "    <tr>\n",
       "      <th>4</th>\n",
       "      <td>1</td>\n",
       "      <td>18392</td>\n",
       "      <td>7</td>\n",
       "      <td>32</td>\n",
       "      <td>0.218750</td>\n",
       "    </tr>\n",
       "  </tbody>\n",
       "</table>\n",
       "</div>"
      ],
      "text/plain": [
       "   exp_group  user_id  likes  views       ctr\n",
       "0          1   109963      3     15  0.200000\n",
       "1          1    26117     32    141  0.226950\n",
       "2          1   138232     18     73  0.246575\n",
       "3          1    26295     33    122  0.270492\n",
       "4          1    18392      7     32  0.218750"
      ]
     },
     "execution_count": 8,
     "metadata": {},
     "output_type": "execute_result"
    }
   ],
   "source": [
    "df.head()"
   ]
  },
  {
   "cell_type": "code",
   "execution_count": 9,
   "id": "087dac7f-a892-486e-adf2-fbd47b597d1a",
   "metadata": {},
   "outputs": [
    {
     "data": {
      "image/png": "[encoded data removed]",
      "text/plain": [
       "<Figure size 842.4x595.44 with 1 Axes>"
      ]
     },
     "metadata": {},
     "output_type": "display_data"
    }
   ],
   "source": [
    "# отрисуем график, чтобы убедиться наглядно \n",
    "groups = sns.histplot(data = df, \n",
    "              x='ctr', \n",
    "              hue='exp_group', \n",
    "              palette = ['r', 'b'],\n",
    "              alpha=0.5,\n",
    "              kde=False)"
   ]
  },
  {
   "cell_type": "code",
   "execution_count": 10,
   "id": "e7e5e5c2-9074-44cb-806f-f542fc44335c",
   "metadata": {},
   "outputs": [
    {
     "name": "stdout",
     "output_type": "stream",
     "text": [
      "p-value: 0.4780623130874935\n",
      "statistic: -0.7094392041270486\n"
     ]
    }
   ],
   "source": [
    "# проведем т-тест\n",
    "results = stats.ttest_ind(df[df.exp_group == 2].ctr,\n",
    "                df[df.exp_group == 1].ctr,\n",
    "                equal_var=False)\n",
    "print('p-value:', results.pvalue)\n",
    "print('statistic:', results.statistic)"
   ]
  },
  {
   "cell_type": "markdown",
   "id": "aea81987-8326-4b95-9b6e-f74b559c7bb3",
   "metadata": {},
   "source": [
    "тест не показал различий в группе, хотя на предыдущем графике заметны выбросы, построим боксплоты групп, чтобы убедиться"
   ]
  },
  {
   "cell_type": "code",
   "execution_count": 11,
   "id": "8e5a7d4c-861f-4fa3-a97b-fbbb6201eebe",
   "metadata": {},
   "outputs": [
    {
     "data": {
      "text/plain": [
       "<AxesSubplot:xlabel='exp_group', ylabel='ctr'>"
      ]
     },
     "execution_count": 11,
     "metadata": {},
     "output_type": "execute_result"
    },
    {
     "data": {
      "image/png": "[encoded data removed]",
      "text/plain": [
       "<Figure size 842.4x595.44 with 1 Axes>"
      ]
     },
     "metadata": {},
     "output_type": "display_data"
    }
   ],
   "source": [
    "sns.boxplot(data = df, \n",
    "              x = 'exp_group', \n",
    "              y = 'ctr', \n",
    "              palette = ['r', 'b'])"
   ]
  },
  {
   "cell_type": "code",
   "execution_count": 12,
   "id": "32a1ff05-c299-4440-86bb-fcd74a833f7f",
   "metadata": {},
   "outputs": [
    {
     "data": {
      "text/plain": [
       "MannwhitneyuResult(statistic=43704947.5, pvalue=6.0376484617779035e-56)"
      ]
     },
     "execution_count": 12,
     "metadata": {},
     "output_type": "execute_result"
    }
   ],
   "source": [
    "# проведем тест Манна-Уитни \n",
    "\n",
    "q = \"\"\"\n",
    "SELECT exp_group, \n",
    "    user_id,\n",
    "    sum(action = 'like') as likes,\n",
    "    sum(action = 'view') as views,\n",
    "    likes/views as ctr\n",
    "FROM {db}.feed_actions \n",
    "WHERE toDate(time) between '2023-05-01' and '2023-05-07'\n",
    "    and exp_group in (2,1)\n",
    "GROUP BY exp_group, user_id\n",
    "\"\"\"\n",
    "\n",
    "\n",
    "df = pandahouse.read_clickhouse(q, connection=connection)\n",
    "stats.mannwhitneyu(df[df.exp_group == 2].ctr, \n",
    "                   df[df.exp_group == 1].ctr,\n",
    "                   alternative = 'two-sided')"
   ]
  },
  {
   "cell_type": "markdown",
   "id": "ce56558d-4bcc-48f8-845a-4db2978a7c9b",
   "metadata": {},
   "source": [
    "тест выявил статистически значимые отличия в группах"
   ]
  },
  {
   "cell_type": "markdown",
   "id": "40fd7d89-7f82-47be-b272-21597af196c5",
   "metadata": {},
   "source": [
    "Проведем т-тест и Манна-Уитни поверх сглаженного CTR"
   ]
  },
  {
   "cell_type": "code",
   "execution_count": 13,
   "id": "949dbc0d-0621-466d-8bb7-052be48c03f7",
   "metadata": {},
   "outputs": [],
   "source": [
    "def get_smothed_ctr(user_likes, user_views, global_ctr, alpha):\n",
    "    smothed_ctr = (user_likes + alpha * global_ctr) / (user_views + alpha)\n",
    "    return smothed_ctr"
   ]
  },
  {
   "cell_type": "code",
   "execution_count": 14,
   "id": "0fce27aa-788b-4f53-8ba2-b8f9cd0f8f10",
   "metadata": {},
   "outputs": [],
   "source": [
    "q = \"\"\"\n",
    "SELECT exp_group, \n",
    "    user_id,\n",
    "    sum(action = 'like') as likes,\n",
    "    sum(action = 'view') as views,\n",
    "    likes/views as ctr\n",
    "FROM {db}.feed_actions \n",
    "WHERE toDate(time) between '2023-05-01' and '2023-05-07'\n",
    "    and exp_group in (2,1)\n",
    "GROUP BY exp_group, user_id\n",
    "\"\"\"\n",
    "\n",
    "\n",
    "df = pandahouse.read_clickhouse(q, connection=connection)"
   ]
  },
  {
   "cell_type": "code",
   "execution_count": 15,
   "id": "974f08ad-52cf-46ad-8712-8234daad31eb",
   "metadata": {},
   "outputs": [],
   "source": [
    "global_ctr_1 = df[df.exp_group == 2].likes.sum()/df[df.exp_group == 2].views.sum()\n",
    "group1 = df[df.exp_group == 2].copy()\n",
    "group1['smothed_ctr'] = df.apply(\n",
    "    lambda x: get_smothed_ctr(x['likes'], x['views'], global_ctr_1, 5), axis=1)"
   ]
  },
  {
   "cell_type": "code",
   "execution_count": 16,
   "id": "36af34ed-6c29-402e-9cbe-ff35b4f65ca1",
   "metadata": {},
   "outputs": [],
   "source": [
    "global_ctr_2 = df[df.exp_group == 1].likes.sum()/df[df.exp_group == 1].views.sum()\n",
    "group2 = df[df.exp_group == 1].copy()\n",
    "group2['smothed_ctr'] = df.apply(\n",
    "    lambda x: get_smothed_ctr(x['likes'], x['views'], global_ctr_2, 5), axis=1)"
   ]
  },
  {
   "cell_type": "code",
   "execution_count": 17,
   "id": "68452081-d769-41eb-bc8e-9a02240965bc",
   "metadata": {},
   "outputs": [
    {
     "name": "stdout",
     "output_type": "stream",
     "text": [
      "p-value: 0.0223769815558559\n",
      "statistic: -2.2841320431616983\n"
     ]
    }
   ],
   "source": [
    "# проведем ttest\n",
    "result = stats.ttest_ind(group1['smothed_ctr'],\n",
    "                group2['smothed_ctr'],\n",
    "                equal_var=False)\n",
    "print('p-value:', result.pvalue)\n",
    "print('statistic:', result.statistic)"
   ]
  },
  {
   "cell_type": "markdown",
   "id": "6898fd4b-ab08-4622-8f77-9242e5972919",
   "metadata": {},
   "source": [
    "t-test не показал статистически значимых различий, посмотрим на гистограмму"
   ]
  },
  {
   "cell_type": "code",
   "execution_count": 18,
   "id": "5047dfb9-5ea8-4faa-9abc-bdb1623b6ef7",
   "metadata": {},
   "outputs": [
    {
     "data": {
      "text/plain": [
       "<matplotlib.legend.Legend at 0x7f55ddc671c0>"
      ]
     },
     "execution_count": 18,
     "metadata": {},
     "output_type": "execute_result"
    },
    {
     "data": {
      "image/png": "[encoded data removed]",
      "text/plain": [
       "<Figure size 842.4x595.44 with 1 Axes>"
      ]
     },
     "metadata": {},
     "output_type": "display_data"
    }
   ],
   "source": [
    "# отрисуем график, чтобы убедиться наглядно \n",
    "sns.histplot(data = group1, x='smothed_ctr', label = 'Тестоваягруппа', color = 'r') \n",
    "sns.histplot(data = group2, x='smothed_ctr',  label = 'Контрольная группа', color = 'c')   \n",
    "plt.legend()"
   ]
  },
  {
   "cell_type": "markdown",
   "id": "d5822db5-8a79-432b-82ce-7a3a4b8d432d",
   "metadata": {},
   "source": [
    "да, действительно, графики показывают различия между группами, только пока выигрывает ctr контрольной группы. "
   ]
  },
  {
   "cell_type": "code",
   "execution_count": 19,
   "id": "b6a028aa-e6c7-4c42-881a-ec6a3012e9f2",
   "metadata": {},
   "outputs": [
    {
     "name": "stdout",
     "output_type": "stream",
     "text": [
      "p-value: 1.6163964114270227e-61\n",
      "statistic: 43381083.0\n"
     ]
    }
   ],
   "source": [
    "result1 = stats.mannwhitneyu(group1['smothed_ctr'],\n",
    "                group2['smothed_ctr'],\n",
    "                alternative = 'two-sided')\n",
    "print('p-value:', result1.pvalue)\n",
    "print('statistic:', result1.statistic)"
   ]
  },
  {
   "cell_type": "code",
   "execution_count": null,
   "id": "8c4a0ee4-f6e3-496a-ac3f-5e113a27b10c",
   "metadata": {},
   "outputs": [],
   "source": []
  },
  {
   "cell_type": "markdown",
   "id": "96691b76-394a-4e9e-8618-2bf0cfbdd23a",
   "metadata": {},
   "source": [
    "тест Манна-Уитни замечает различия"
   ]
  },
  {
   "cell_type": "markdown",
   "id": "92f194c5-060b-4840-8c25-113f8f58853c",
   "metadata": {},
   "source": [
    "Пуассоновский бутстреп поверх сглаженного CTR"
   ]
  },
  {
   "cell_type": "code",
   "execution_count": 20,
   "id": "a12c2877-ac31-43b6-aa54-e91bd4af7514",
   "metadata": {},
   "outputs": [],
   "source": [
    "def bootstrap(likes1, views1, likes2, views2, n_bootstrap=2000):\n",
    "\n",
    "    poisson_bootstraps1 = stats.poisson(1).rvs(\n",
    "        (2000, len(likes1))).astype(np.int64)\n",
    "\n",
    "    poisson_bootstraps2 = stats.poisson(1).rvs(\n",
    "            (2000, len(likes2))).astype(np.int64)\n",
    "    \n",
    "    globalCTR1 = (poisson_bootstraps1*likes1).sum(axis=1)/(poisson_bootstraps1*views1).sum(axis=1)\n",
    "    \n",
    "    globalCTR2 = (poisson_bootstraps2*likes2).sum(axis=1)/(poisson_bootstraps2*views2).sum(axis=1)\n",
    "\n",
    "    return globalCTR1, globalCTR2"
   ]
  },
  {
   "cell_type": "code",
   "execution_count": 21,
   "id": "4200b43c-43ac-44ad-94f5-53047576415d",
   "metadata": {},
   "outputs": [],
   "source": [
    "q = \"\"\"\n",
    "SELECT exp_group, \n",
    "    user_id,\n",
    "    sum(action = 'like') as likes,\n",
    "    sum(action = 'view') as views,\n",
    "    likes/views as ctr\n",
    "FROM {db}.feed_actions \n",
    "WHERE toDate(time) between '2023-05-01' and '2023-05-07'\n",
    "    and exp_group in (2,1)\n",
    "GROUP BY exp_group, user_id\n",
    "\"\"\"\n",
    "\n",
    "\n",
    "df = pandahouse.read_clickhouse(q, connection=connection)\n",
    "\n",
    "likes1 = df[df.exp_group == 2].likes.to_numpy()\n",
    "views1 = df[df.exp_group == 2].views.to_numpy()\n",
    "likes2 = df[df.exp_group == 1].likes.to_numpy()\n",
    "views2 = df[df.exp_group == 1].views.to_numpy()"
   ]
  },
  {
   "cell_type": "code",
   "execution_count": 22,
   "id": "40e7c574-9012-4bb1-aa4e-c5eddead6f48",
   "metadata": {},
   "outputs": [],
   "source": [
    "ctr1, ctr2 = bootstrap(likes1, views1, likes2, views2)"
   ]
  },
  {
   "cell_type": "code",
   "execution_count": 23,
   "id": "0f49b7aa-9ec3-4caa-b1d8-55ec508bb878",
   "metadata": {},
   "outputs": [
    {
     "data": {
      "text/plain": [
       "2000"
      ]
     },
     "execution_count": 23,
     "metadata": {},
     "output_type": "execute_result"
    }
   ],
   "source": [
    "len(ctr2)"
   ]
  },
  {
   "cell_type": "code",
   "execution_count": 24,
   "id": "5f333543-eeed-45ed-b6db-1880407e4467",
   "metadata": {},
   "outputs": [
    {
     "data": {
      "text/plain": [
       "<matplotlib.legend.Legend at 0x7f55dd8d2100>"
      ]
     },
     "execution_count": 24,
     "metadata": {},
     "output_type": "execute_result"
    },
    {
     "data": {
      "image/png": "[encoded data removed]",
      "text/plain": [
       "<Figure size 842.4x595.44 with 1 Axes>"
      ]
     },
     "metadata": {},
     "output_type": "display_data"
    }
   ],
   "source": [
    "sns.histplot(ctr1, label='Тестовая группа', color= 'r')\n",
    "sns.histplot(ctr2, label='Контрольная группа', color= 'c')\n",
    "plt.legend()"
   ]
  },
  {
   "cell_type": "markdown",
   "id": "d1bb48d6-a88f-4b2e-87d7-6a77cdca54ea",
   "metadata": {},
   "source": [
    "Графики не пересекаются, видно, что CTR в контрольной группе выше , чем в тестовой группе."
   ]
  },
  {
   "cell_type": "markdown",
   "id": "1265ea9a-5dc0-4e6f-b2c1-19cc666e48b9",
   "metadata": {},
   "source": [
    "### Распределение разницы между \"глобальными CTR\""
   ]
  },
  {
   "cell_type": "code",
   "execution_count": 25,
   "id": "7c3ab096-6403-4157-98d4-0ffd0f316f31",
   "metadata": {},
   "outputs": [
    {
     "data": {
      "text/plain": [
       "<AxesSubplot:ylabel='Count'>"
      ]
     },
     "execution_count": 25,
     "metadata": {},
     "output_type": "execute_result"
    },
    {
     "data": {
      "image/png": "[encoded data removed]",
      "text/plain": [
       "<Figure size 842.4x595.44 with 1 Axes>"
      ]
     },
     "metadata": {},
     "output_type": "display_data"
    }
   ],
   "source": [
    "sns.histplot(ctr2 - ctr1)"
   ]
  },
  {
   "cell_type": "markdown",
   "id": "133d4665-4d13-4d62-bfb8-a96dc11d7b41",
   "metadata": {},
   "source": [
    "Видим, что распределение лежит строго после нуля, значит разница между CTR контрольной группы и тестовой - положительная, ненулевая. Значит,помощью пуассоновского бустрепа мы можем утверждать, что CTR группы 1 - контрольной лучше, чем в группе 2 - тестовой."
   ]
  },
  {
   "cell_type": "markdown",
   "id": "8b3e5b60-9d15-4991-884b-b90386376514",
   "metadata": {},
   "source": [
    "Протестируем т-тестом и Манна-Уитни поверх бакетногопреобразования"
   ]
  },
  {
   "cell_type": "code",
   "execution_count": 26,
   "id": "43889357-7cd5-43a2-9502-d496a2a43b08",
   "metadata": {},
   "outputs": [],
   "source": [
    "q = \"\"\"\n",
    "\n",
    "SELECT exp_group, bucket,\n",
    "    sum(likes)/sum(views) as bucket_ctr,\n",
    "    quantileExact(0.9)(ctr) as ctr9\n",
    "FROM (SELECT exp_group, \n",
    "        xxHash64(user_id)%50 as bucket,\n",
    "        user_id,\n",
    "        sum(action = 'like') as likes,\n",
    "        sum(action = 'view') as views,\n",
    "        likes/views as ctr\n",
    "    FROM {db}.feed_actions \n",
    "    WHERE toDate(time) between '2023-05-01' and '2023-05-07'\n",
    "        and exp_group in (2,1)\n",
    "    GROUP BY exp_group, bucket, user_id)\n",
    "GROUP BY exp_group, bucket\n",
    "\"\"\"\n",
    "\n",
    "df = pandahouse.read_clickhouse(q, connection=connection)"
   ]
  },
  {
   "cell_type": "code",
   "execution_count": 27,
   "id": "0ec7a647-d086-4bed-bc61-ff5b278fc3b2",
   "metadata": {},
   "outputs": [
    {
     "name": "stdout",
     "output_type": "stream",
     "text": [
      "p-value: 3.4455951649945907e-07\n",
      "statistic: -5.668234732053979\n"
     ]
    }
   ],
   "source": [
    "result_bus = stats.ttest_ind(df[df.exp_group == 2].bucket_ctr,\n",
    "                df[df.exp_group == 1].bucket_ctr,\n",
    "                equal_var=False)\n",
    "print('p-value:', result_bus.pvalue)\n",
    "print('statistic:', result_bus.statistic)"
   ]
  },
  {
   "cell_type": "code",
   "execution_count": 28,
   "id": "b38fd0eb-cfd7-49b7-aede-72c845b483ee",
   "metadata": {},
   "outputs": [
    {
     "data": {
      "text/plain": [
       "<Figure size 1200x400 with 0 Axes>"
      ]
     },
     "execution_count": 28,
     "metadata": {},
     "output_type": "execute_result"
    },
    {
     "data": {
      "text/plain": [
       "<Figure size 1200x400 with 0 Axes>"
      ]
     },
     "metadata": {},
     "output_type": "display_data"
    }
   ],
   "source": [
    "from pylab import rcParams\n",
    "rcParams['figure.figsize'] = 15, 4 \n",
    "plt.figure(figsize=(12, 4), dpi=100)"
   ]
  },
  {
   "cell_type": "code",
   "execution_count": 29,
   "id": "7e5c4789-6799-4711-be78-3f21f72b19d0",
   "metadata": {},
   "outputs": [
    {
     "data": {
      "image/png": "[encoded data removed]",
      "text/plain": [
       "<Figure size 1080x288 with 1 Axes>"
      ]
     },
     "metadata": {},
     "output_type": "display_data"
    }
   ],
   "source": [
    "# отрисуем график, чтобы убедиться наглядно \n",
    "groups = sns.histplot(data = df, \n",
    "              x='bucket_ctr', \n",
    "              hue='exp_group', \n",
    "              palette= ['r', 'b'],\n",
    "              alpha=0.5,\n",
    "              kde=False)"
   ]
  },
  {
   "cell_type": "code",
   "execution_count": 30,
   "id": "1e787b3f-129b-443b-8e4d-4a5cd4f2951f",
   "metadata": {},
   "outputs": [
    {
     "name": "stdout",
     "output_type": "stream",
     "text": [
      "p-value: 2.859963936492646e-07\n",
      "statistic: 505.0\n"
     ]
    }
   ],
   "source": [
    "result_bus1 = stats.mannwhitneyu(df[df.exp_group == 2].bucket_ctr,\n",
    "                df[df.exp_group == 1].bucket_ctr,\n",
    "                alternative = 'two-sided')\n",
    "print('p-value:', result_bus1.pvalue)\n",
    "print('statistic:', result_bus1.statistic)"
   ]
  },
  {
   "cell_type": "code",
   "execution_count": 31,
   "id": "c4bcb659-69e0-43f6-bd2e-2e7ae5379efc",
   "metadata": {},
   "outputs": [
    {
     "name": "stdout",
     "output_type": "stream",
     "text": [
      "p-value: 6.344839189967265e-18\n",
      "statistic: 2500.0\n"
     ]
    }
   ],
   "source": [
    "result2 = stats.mannwhitneyu(df[df.exp_group == 2].ctr9, \n",
    "                   df[df.exp_group == 1].ctr9, \n",
    "                   alternative = 'two-sided')\n",
    "print('p-value:', result2.pvalue)\n",
    "print('statistic:', result2.statistic)"
   ]
  },
  {
   "cell_type": "code",
   "execution_count": 32,
   "id": "88491d61-3f22-4817-9a0f-15bebb0eb170",
   "metadata": {},
   "outputs": [
    {
     "name": "stdout",
     "output_type": "stream",
     "text": [
      "p-value: 1.2945537024964474e-40\n",
      "statistic: 23.214341215937406\n"
     ]
    }
   ],
   "source": [
    "result_ctr9 = stats.ttest_ind(df[df.exp_group == 2].ctr9,\n",
    "                df[df.exp_group == 1].ctr9,\n",
    "                equal_var=False)\n",
    "print('p-value:', result_ctr9.pvalue)\n",
    "print('statistic:', result_ctr9.statistic)"
   ]
  },
  {
   "cell_type": "code",
   "execution_count": 33,
   "id": "c594a376-cd63-4f5e-9a02-4a376f7181e9",
   "metadata": {},
   "outputs": [
    {
     "data": {
      "image/png": "[encoded data removed]",
      "text/plain": [
       "<Figure size 1200x600 with 1 Axes>"
      ]
     },
     "metadata": {},
     "output_type": "display_data"
    }
   ],
   "source": [
    "plt.figure(figsize=(12, 6), dpi=100)\n",
    "# отрисуем график, чтобы убедиться наглядно \n",
    "groups = sns.histplot(data = df, \n",
    "              x='ctr9', \n",
    "              hue='exp_group', \n",
    "              palette= ['r', 'b'],\n",
    "              alpha=0.5,\n",
    "              kde=False)"
   ]
  },
  {
   "cell_type": "markdown",
   "id": "e7241989-f92d-4b1c-bfc4-e53772eb2233",
   "metadata": {},
   "source": [
    "## Вывод по проделанной работе"
   ]
  },
  {
   "cell_type": "markdown",
   "id": "71c3d371-55db-48ab-8c12-52f181227de2",
   "metadata": {},
   "source": [
    "Как мы знаем из задания эксперимент проходил с 2023-05-01 по 2023-05-07 включительно. Для эксперимента были задействованы 2 и 1 группы.В группе 2 был использован один из новых алгоритмов рекомендации постов, группа 1 использовалась в качестве контроля.\n",
    "\n",
    "Основная гипотеза заключается в том, что новый алгоритм во 2-й группе приведет к увеличению CTR.\n",
    "\n",
    "Т-тест не показал различий в группах, хотя на графиках мы их налюдаем, отрисовка боксплота показала большие выбросы, в этом и есть причина, что т-тест не прокрасил различий. На этом же посчитанном CTR тест Манна-Уитни показал статистически значимые различия медлу группами. \n",
    "\n",
    "Далее проводились тесты на сглаженном CTR - тест Стьюдента и тест Манна-Уитни. Т-тест также не прокрасил различий, на графике глазами мы убедились, что различия есть. Тест Манна-Уитни показал статистически значимые различия в группах и на цифрах, и на графиках. Результат CTR контрольной группы лучше, чем в тестовой. \n",
    "\n",
    "Пуассоновский бутстрап на сглаженном CTR также показал статистически значимые отличия. \n",
    "На графиках видно, что CTR группы 1 - контрольной лучше, чем в группе 2 - тестовой.\n",
    "\n",
    "Т-тест и Манна-Уитни поверх бакетного преобразования - оба теста выявили различия в группах.\n",
    "\n",
    "Почему тесты сработали так как сработали? Опишите потенциальную ситуацию, когда такое изменение могло произойти. Тут нет идеального ответа, подумайте. Напишите рекомендацию, будем ли мы раскатывать новый алгоритм на всех новых пользователей или все-таки не стоит.\n",
    "\n",
    "\n",
    "Конечно, не стоит раскатывать новый алгоритм на всех пользователей, практически все методы продемонстрировали значимые отличия, бустрап показал CTR контрольной группы выше, чем CTR тестовой группы.\n",
    "Почему есть отличия в группах? Сложно сказать, что послужило причиной и когда. Возможно, тест был запущен одновременно с тестированием еще одной рекомендательной системы в это же время. Часть пользователей пересекались по группам, то есть одновременно им показывали обе новые системы - некорректно разбили юзеров на тестовую и контрольную группы.\n",
    "\n"
   ]
  }
 ],
 "metadata": {
  "kernelspec": {
   "display_name": "Python 3 (ipykernel)",
   "language": "python",
   "name": "python3"
  },
  "language_info": {
   "codemirror_mode": {
    "name": "ipython",
    "version": 3
   },
   "file_extension": ".py",
   "mimetype": "text/x-python",
   "name": "python",
   "nbconvert_exporter": "python",
   "pygments_lexer": "ipython3",
   "version": "3.9.13"
  }
 },
 "nbformat": 4,
 "nbformat_minor": 5
}
